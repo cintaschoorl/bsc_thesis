{
 "cells": [
  {
   "cell_type": "code",
   "execution_count": null,
   "id": "0c3e08ef-acb1-48cb-a89c-b97143a3d128",
   "metadata": {},
   "outputs": [],
   "source": [
    "# 🔧 Installatie-check (alleen nodig als je whitebox nog niet hebt)\n",
    "# !pip install whitebox\n",
    "\n",
    "from whitebox.whitebox_tools import WhiteboxTools\n",
    "import os\n",
    "\n",
    "# path to input DEM file\n",
    "input_dem = \"../data/your_dem.tif\"  # <-- vervang dit met het juiste pad\n",
    "\n",
    "# output folder\n",
    "output_dir = \"outputs\"\n",
    "os.makedirs(output_dir, exist_ok=True)\n",
    "\n",
    "# instance of WhiteboxTools\n",
    "wbt = WhiteboxTools()\n",
    "wbt.set_working_dir(output_dir)\n",
    "\n",
    "# analysis: Topographic Openness 25m and 250m\n",
    "radii = [25, 250]\n",
    "for r in radii:\n",
    "    output_file = f\"openness_{r}m.tif\"\n",
    "    print(f\"Running openness for radius {r}m...\")\n",
    "    wbt.multi_scale_topographic_position_image(\n",
    "        dem=input_dem,\n",
    "        out=output_file,\n",
    "        min_scale=r,\n",
    "        max_scale=r,\n",
    "        step=1,\n",
    "        variant=\"openness\"  # of \"position\" of \"profile\", \"plan\"\n",
    "    )\n",
    "    print(f\"Saved: {output_file}\")"
   ]
  }
 ],
 "metadata": {
  "kernelspec": {
   "display_name": "Python 3 (ipykernel)",
   "language": "python",
   "name": "python3"
  },
  "language_info": {
   "codemirror_mode": {
    "name": "ipython",
    "version": 3
   },
   "file_extension": ".py",
   "mimetype": "text/x-python",
   "name": "python",
   "nbconvert_exporter": "python",
   "pygments_lexer": "ipython3",
   "version": "3.10.16"
  }
 },
 "nbformat": 4,
 "nbformat_minor": 5
}
