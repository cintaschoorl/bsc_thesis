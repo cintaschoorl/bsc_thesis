{
 "cells": [
  {
   "cell_type": "code",
   "execution_count": 3,
   "id": "0c3e08ef-acb1-48cb-a89c-b97143a3d128",
   "metadata": {},
   "outputs": [
    {
     "name": "stdout",
     "output_type": "stream",
     "text": [
      "Running openness for radius 25m...\n",
      ".\\whitebox_tools.exe --run=\"MultiScaleTopographicPositionImage\" --wd=\"outputs\" --dem=../data/your_dem.tif --output=openness_25m.tif --min_scale=25 --max_scale=25 --step=1 --variant=openness -v --compress_rasters=False\n",
      "\n",
      "*************************************************\n",
      "* Welcome to MultiscaleTopographicPositionImage *\n",
      "* Powered by WhiteboxTools                      *\n",
      "* www.whiteboxgeo.com                           *\n",
      "*************************************************\n",
      "Reading broad-scale DEV data...\n",
      "thread 'main' panicked at whitebox-raster\\src\\lib.rs:1361:69:\n",
      "called `Option::unwrap()` on a `None` value\n",
      "note: run with `RUST_BACKTRACE=1` environment variable to display a backtrace\n",
      "Saved: openness_25m.tif\n",
      "Running openness for radius 250m...\n",
      ".\\whitebox_tools.exe --run=\"MultiScaleTopographicPositionImage\" --wd=\"outputs\" --dem=../data/your_dem.tif --output=openness_250m.tif --min_scale=250 --max_scale=250 --step=1 --variant=openness -v --compress_rasters=False\n",
      "\n",
      "*************************************************\n",
      "* Welcome to MultiscaleTopographicPositionImage *\n",
      "* Powered by WhiteboxTools                      *\n",
      "* www.whiteboxgeo.com                           *\n",
      "*************************************************\n",
      "Reading broad-scale DEV data...\n",
      "thread 'main' panicked at whitebox-raster\\src\\lib.rs:1361:69:\n",
      "called `Option::unwrap()` on a `None` value\n",
      "note: run with `RUST_BACKTRACE=1` environment variable to display a backtrace\n",
      "Saved: openness_250m.tif\n"
     ]
    }
   ],
   "source": [
    "# 🔧 Installatie-check (alleen nodig als je whitebox nog niet hebt)\n",
    "# !pip install whitebox\n",
    "\n",
    "from whitebox.whitebox_tools import WhiteboxTools\n",
    "import os\n",
    "\n",
    "# path to input DEM file\n",
    "input_dem = \"../data/Soutpansberg_DEM3.1.tif\"  # <-- vervang dit met het juiste pad\n",
    "\n",
    "# output folder\n",
    "output_dir = \"outputs\"\n",
    "os.makedirs(output_dir, exist_ok=True)\n",
    "\n",
    "# instance of WhiteboxTools\n",
    "wbt = WhiteboxTools()\n",
    "wbt.set_working_dir(output_dir)\n",
    "\n",
    "# analysis: Topographic Openness 25m and 250m\n",
    "radii = [25, 250]\n",
    "for r in radii:\n",
    "    output_file = f\"openness_{r}m.tif\"\n",
    "    print(f\"Running openness for radius {r}m...\")\n",
    "\n",
    "    # List of arguments for the tool\n",
    "    args = [\n",
    "        f\"--dem={input_dem}\",\n",
    "        f\"--output={output_file}\",\n",
    "        f\"--min_scale={r}\",\n",
    "        f\"--max_scale={r}\",\n",
    "        \"--step=1\",\n",
    "        \"--variant=openness\"\n",
    "    ]\n",
    "\n",
    "    # Run the tool by name\n",
    "    wbt.run_tool(\"multi_scale_topographic_position_image\", args)\n",
    "\n",
    "    print(f\"Saved: {output_file}\")"
   ]
  }
 ],
 "metadata": {
  "kernelspec": {
   "display_name": "Python 3 (ipykernel)",
   "language": "python",
   "name": "python3"
  },
  "language_info": {
   "codemirror_mode": {
    "name": "ipython",
    "version": 3
   },
   "file_extension": ".py",
   "mimetype": "text/x-python",
   "name": "python",
   "nbconvert_exporter": "python",
   "pygments_lexer": "ipython3",
   "version": "3.10.16"
  }
 },
 "nbformat": 4,
 "nbformat_minor": 5
}
