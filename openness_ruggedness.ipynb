{
 "cells": [
  {
   "cell_type": "markdown",
   "metadata": {},
   "source": [
    "## Calculate Land Surface Parameters: TO and TRI"
   ]
  },
  {
   "cell_type": "markdown",
   "metadata": {},
   "source": [
    "#### Set environment"
   ]
  },
  {
   "cell_type": "code",
   "execution_count": 5,
   "metadata": {},
   "outputs": [
    {
     "data": {
      "text/plain": [
       "'CheckedOut'"
      ]
     },
     "execution_count": 5,
     "metadata": {},
     "output_type": "execute_result"
    }
   ],
   "source": [
    "import os\n",
    "import arcpy\n",
    "from arcpy.sa import * # import all spatial analyst toolbox functions\n",
    "import numpy as np\n",
    "\n",
    "arcpy.CheckOutExtension(\"Spatial\") # allow extension usage"
   ]
  },
  {
   "cell_type": "code",
   "execution_count": 9,
   "metadata": {},
   "outputs": [],
   "source": [
    "# Path to DEM\n",
    "dem = r\"E:\\Cinta\\Layers\\DEM_Soutpans_clip.tif\""
   ]
  },
  {
   "cell_type": "markdown",
   "metadata": {},
   "source": [
    "### Calculate Topographic Openness (TO) for 30 and 300m search radius"
   ]
  },
  {
   "cell_type": "code",
   "execution_count": 3,
   "metadata": {},
   "outputs": [],
   "source": [
    "# Output locations\n",
    "output_30m = r\"E:\\Cinta\\Layers\\LSP\\TO30.tif\"\n",
    "output_300m = r\"E:\\Cinta\\Layers\\LSP\\TO300.tif\""
   ]
  },
  {
   "cell_type": "code",
   "execution_count": 5,
   "metadata": {},
   "outputs": [],
   "source": [
    "# search radius = radius / resolution of 1 pixel (30m)\n",
    "radius_30m = 30/30\n",
    "radius_300m = 300/30\n",
    "\n",
    "# simple approach for openness: standard deviation within window\n",
    "TO30 = FocalStatistics(dem, NbrCircle(radius_30m, \"CELL\"), \"STD\")\n",
    "TO30.save(output_30m)\n",
    "\n",
    "TO300 = FocalStatistics(dem, NbrCircle(radius_300m, \"CELL\"), \"STD\")\n",
    "TO300.save(output_300m)"
   ]
  },
  {
   "cell_type": "markdown",
   "metadata": {},
   "source": [
    "### Calculate Terrain Ruggedness Index (TRI)"
   ]
  },
  {
   "cell_type": "code",
   "execution_count": 6,
   "metadata": {},
   "outputs": [
    {
     "name": "stdout",
     "output_type": "stream",
     "text": [
      "True\n"
     ]
    }
   ],
   "source": [
    "focals = {}\n",
    "types = [\"MEAN\", \"MAXIMUM\", \"MINIMUM\"]\n",
    "\n",
    "for t in types:\n",
    "    focal_stat = FocalStatistics(dem, NbrRectangle(3, 3, \"CELL\"), t)\n",
    "    focals[t] = focal_stat\n",
    "\n",
    "focal_mean = focals[\"MEAN\"]\n",
    "focal_max = focals[\"MAXIMUM\"]\n",
    "focal_min = focals[\"MINIMUM\"]\n",
    "\n",
    "# Compute TRI\n",
    "tri = (focal_mean - focal_min) / (focal_max - focal_min)\n",
    "\n",
    "# Save TRI as raster layer\n",
    "tri.save(r\"E:\\Cinta\\Layers\\tri.tif\")\n",
    "print(f\"Saved {tri.tif}\")"
   ]
  }
 ],
 "metadata": {
  "kernelspec": {
   "display_name": "ArcGISPro",
   "language": "Python",
   "name": "python3"
  },
  "language_info": {
   "file_extension": ".py",
   "name": "python",
   "version": "3"
  }
 },
 "nbformat": 4,
 "nbformat_minor": 4
}
